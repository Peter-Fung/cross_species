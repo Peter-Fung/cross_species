{
 "cells": [
  {
   "cell_type": "code",
   "execution_count": null,
   "id": "1f04d1e5-49be-4c59-beec-8e75972014de",
   "metadata": {},
   "outputs": [],
   "source": []
  },
  {
   "cell_type": "code",
   "execution_count": 1,
   "id": "e828009b-2656-4775-9c62-22c82df77dc0",
   "metadata": {
    "execution": {
     "iopub.execute_input": "2024-06-27T06:05:18.337913Z",
     "iopub.status.busy": "2024-06-27T06:05:18.337343Z",
     "iopub.status.idle": "2024-06-27T06:05:19.421246Z",
     "shell.execute_reply": "2024-06-27T06:05:19.420476Z",
     "shell.execute_reply.started": "2024-06-27T06:05:18.337869Z"
    },
    "tags": []
   },
   "outputs": [],
   "source": [
    "import pandas as pd\n",
    "import numpy as np\n",
    "import torch\n",
    "import os\n",
    "import pickle"
   ]
  },
  {
   "cell_type": "code",
   "execution_count": 2,
   "id": "08702e6d-571a-4a5d-99ec-445593f8bfd5",
   "metadata": {
    "execution": {
     "iopub.execute_input": "2024-06-27T06:05:27.594022Z",
     "iopub.status.busy": "2024-06-27T06:05:27.593118Z",
     "iopub.status.idle": "2024-06-27T06:05:29.023909Z",
     "shell.execute_reply": "2024-06-27T06:05:29.023127Z",
     "shell.execute_reply.started": "2024-06-27T06:05:27.593971Z"
    },
    "tags": []
   },
   "outputs": [
    {
     "name": "stdout",
     "output_type": "stream",
     "text": [
      "mapping_dict已成功从mapping_dict.pkl读取\n",
      "results_10_species.pkl读取\n"
     ]
    }
   ],
   "source": [
    "# 从本地文件读取字典\n",
    "with open('mapping_dict.pkl', 'rb') as f:\n",
    "    mapping_dict = pickle.load(f)\n",
    "\n",
    "print(\"mapping_dict已成功从mapping_dict.pkl读取\")\n",
    "\n",
    "# 从本地文件读取字典\n",
    "with open('results_10_species.pkl', 'rb') as f:\n",
    "    results = pickle.load(f)\n",
    "\n",
    "print(\"results_10_species.pkl读取\")"
   ]
  },
  {
   "cell_type": "code",
   "execution_count": null,
   "id": "54040b09-0226-46ed-a273-9d502cca6cae",
   "metadata": {},
   "outputs": [],
   "source": []
  },
  {
   "cell_type": "code",
   "execution_count": 3,
   "id": "d4f39c47-fa63-4b81-81e5-9aed5f84cef1",
   "metadata": {
    "execution": {
     "iopub.execute_input": "2024-06-27T06:05:42.356328Z",
     "iopub.status.busy": "2024-06-27T06:05:42.355763Z",
     "iopub.status.idle": "2024-06-27T06:05:43.014884Z",
     "shell.execute_reply": "2024-06-27T06:05:43.013498Z",
     "shell.execute_reply.started": "2024-06-27T06:05:42.356286Z"
    },
    "tags": []
   },
   "outputs": [],
   "source": [
    "# 提取所有 mean_representations_nm 作为聚类数据\n",
    "data = np.array([item[1] for item in results])\n",
    "\n",
    "Data_id = np.array([item[0] for item in results])\n",
    "\n",
    "# 为每个Data_id中的值找到对应的Orthogroup行标签\n",
    "mapped_ids = {gene: mapping_dict.get(gene, None) for gene in Data_id}\n"
   ]
  },
  {
   "cell_type": "code",
   "execution_count": 4,
   "id": "4cfe7572-e072-43ec-b8cb-82ddb5184804",
   "metadata": {
    "execution": {
     "iopub.execute_input": "2024-06-27T06:05:56.017246Z",
     "iopub.status.busy": "2024-06-27T06:05:56.016607Z",
     "iopub.status.idle": "2024-06-27T06:05:56.354330Z",
     "shell.execute_reply": "2024-06-27T06:05:56.353443Z",
     "shell.execute_reply.started": "2024-06-27T06:05:56.017200Z"
    },
    "tags": []
   },
   "outputs": [],
   "source": [
    "from sklearn.cluster import KMeans\n"
   ]
  },
  {
   "cell_type": "code",
   "execution_count": 5,
   "id": "8ed8b6dd-7890-48c2-9431-48ad3587f95c",
   "metadata": {
    "execution": {
     "iopub.execute_input": "2024-06-27T06:05:57.207916Z",
     "iopub.status.busy": "2024-06-27T06:05:57.207214Z",
     "iopub.status.idle": "2024-06-27T06:05:57.214883Z",
     "shell.execute_reply": "2024-06-27T06:05:57.213290Z",
     "shell.execute_reply.started": "2024-06-27T06:05:57.207869Z"
    },
    "tags": []
   },
   "outputs": [],
   "source": [
    "# 设置聚类的超参数\n",
    "num_clusters = 2000\n",
    "\n",
    "# 初始化KMeans模型\n",
    "kmeans = KMeans(n_clusters=num_clusters, random_state=0)"
   ]
  },
  {
   "cell_type": "code",
   "execution_count": 6,
   "id": "922de11c-1c65-4f15-8986-b459165ca905",
   "metadata": {
    "execution": {
     "iopub.execute_input": "2024-06-27T06:05:57.774630Z",
     "iopub.status.busy": "2024-06-27T06:05:57.774136Z",
     "iopub.status.idle": "2024-06-27T06:42:04.461897Z",
     "shell.execute_reply": "2024-06-27T06:42:04.461359Z",
     "shell.execute_reply.started": "2024-06-27T06:05:57.774588Z"
    },
    "tags": []
   },
   "outputs": [],
   "source": [
    "# 进行聚类\n",
    "labels = kmeans.fit_predict(data)"
   ]
  },
  {
   "cell_type": "code",
   "execution_count": 7,
   "id": "fd7675da-269e-402c-a9e3-9b26a625eb12",
   "metadata": {
    "execution": {
     "iopub.execute_input": "2024-06-27T06:42:04.463021Z",
     "iopub.status.busy": "2024-06-27T06:42:04.462796Z",
     "iopub.status.idle": "2024-06-27T06:42:04.679767Z",
     "shell.execute_reply": "2024-06-27T06:42:04.678467Z",
     "shell.execute_reply.started": "2024-06-27T06:42:04.463005Z"
    },
    "tags": []
   },
   "outputs": [],
   "source": [
    "# 将文件名和聚类标签保存到 DataFrame\n",
    "clustered_results = pd.DataFrame({\n",
    "    'File Name': [item[0] for item in results],\n",
    "    'Cluster Label': labels,\n",
    "    'orthogroups': [mapped_ids[gene] for gene in Data_id]\n",
    "})"
   ]
  },
  {
   "cell_type": "code",
   "execution_count": 8,
   "id": "5cb2517e-e311-4f48-bf7a-8072b2c8761f",
   "metadata": {
    "execution": {
     "iopub.execute_input": "2024-06-27T06:42:04.680652Z",
     "iopub.status.busy": "2024-06-27T06:42:04.680483Z",
     "iopub.status.idle": "2024-06-27T06:42:04.692009Z",
     "shell.execute_reply": "2024-06-27T06:42:04.691340Z",
     "shell.execute_reply.started": "2024-06-27T06:42:04.680639Z"
    },
    "tags": []
   },
   "outputs": [
    {
     "data": {
      "text/html": [
       "<div>\n",
       "<style scoped>\n",
       "    .dataframe tbody tr th:only-of-type {\n",
       "        vertical-align: middle;\n",
       "    }\n",
       "\n",
       "    .dataframe tbody tr th {\n",
       "        vertical-align: top;\n",
       "    }\n",
       "\n",
       "    .dataframe thead th {\n",
       "        text-align: right;\n",
       "    }\n",
       "</style>\n",
       "<table border=\"1\" class=\"dataframe\">\n",
       "  <thead>\n",
       "    <tr style=\"text-align: right;\">\n",
       "      <th></th>\n",
       "      <th>File Name</th>\n",
       "      <th>Cluster Label</th>\n",
       "      <th>orthogroups</th>\n",
       "    </tr>\n",
       "  </thead>\n",
       "  <tbody>\n",
       "    <tr>\n",
       "      <th>0</th>\n",
       "      <td>Anol_caro_LOC100337545</td>\n",
       "      <td>1472</td>\n",
       "      <td>OG0000097</td>\n",
       "    </tr>\n",
       "    <tr>\n",
       "      <th>1</th>\n",
       "      <td>Anol_caro_LOC100551521</td>\n",
       "      <td>1738</td>\n",
       "      <td>None</td>\n",
       "    </tr>\n",
       "    <tr>\n",
       "      <th>2</th>\n",
       "      <td>Anol_caro_LOC100337549</td>\n",
       "      <td>144</td>\n",
       "      <td>None</td>\n",
       "    </tr>\n",
       "    <tr>\n",
       "      <th>3</th>\n",
       "      <td>Anol_caro_LOC100551552</td>\n",
       "      <td>940</td>\n",
       "      <td>OG0004176</td>\n",
       "    </tr>\n",
       "    <tr>\n",
       "      <th>4</th>\n",
       "      <td>Anol_caro_LOC100551564</td>\n",
       "      <td>1951</td>\n",
       "      <td>OG0018819</td>\n",
       "    </tr>\n",
       "    <tr>\n",
       "      <th>...</th>\n",
       "      <td>...</td>\n",
       "      <td>...</td>\n",
       "      <td>...</td>\n",
       "    </tr>\n",
       "    <tr>\n",
       "      <th>272050</th>\n",
       "      <td>Taen_gutt_ZRANB3</td>\n",
       "      <td>1470</td>\n",
       "      <td>OG0024434</td>\n",
       "    </tr>\n",
       "    <tr>\n",
       "      <th>272051</th>\n",
       "      <td>Taen_gutt_ZNF831</td>\n",
       "      <td>302</td>\n",
       "      <td>OG0024432</td>\n",
       "    </tr>\n",
       "    <tr>\n",
       "      <th>272052</th>\n",
       "      <td>Taen_gutt_ZWILCH</td>\n",
       "      <td>1004</td>\n",
       "      <td>OG0029775</td>\n",
       "    </tr>\n",
       "    <tr>\n",
       "      <th>272053</th>\n",
       "      <td>Taen_gutt_ZSWIM1</td>\n",
       "      <td>5</td>\n",
       "      <td>OG0006861</td>\n",
       "    </tr>\n",
       "    <tr>\n",
       "      <th>272054</th>\n",
       "      <td>Taen_gutt_ZZZ3</td>\n",
       "      <td>52</td>\n",
       "      <td>OG0004995</td>\n",
       "    </tr>\n",
       "  </tbody>\n",
       "</table>\n",
       "<p>272055 rows × 3 columns</p>\n",
       "</div>"
      ],
      "text/plain": [
       "                     File Name  Cluster Label orthogroups\n",
       "0       Anol_caro_LOC100337545           1472   OG0000097\n",
       "1       Anol_caro_LOC100551521           1738        None\n",
       "2       Anol_caro_LOC100337549            144        None\n",
       "3       Anol_caro_LOC100551552            940   OG0004176\n",
       "4       Anol_caro_LOC100551564           1951   OG0018819\n",
       "...                        ...            ...         ...\n",
       "272050        Taen_gutt_ZRANB3           1470   OG0024434\n",
       "272051        Taen_gutt_ZNF831            302   OG0024432\n",
       "272052        Taen_gutt_ZWILCH           1004   OG0029775\n",
       "272053        Taen_gutt_ZSWIM1              5   OG0006861\n",
       "272054          Taen_gutt_ZZZ3             52   OG0004995\n",
       "\n",
       "[272055 rows x 3 columns]"
      ]
     },
     "execution_count": 8,
     "metadata": {},
     "output_type": "execute_result"
    }
   ],
   "source": [
    "clustered_results"
   ]
  },
  {
   "cell_type": "code",
   "execution_count": 27,
   "id": "3366c17a-8212-4059-bf3d-fb55d7e36a1f",
   "metadata": {
    "execution": {
     "iopub.execute_input": "2024-06-27T08:04:07.784509Z",
     "iopub.status.busy": "2024-06-27T08:04:07.783957Z",
     "iopub.status.idle": "2024-06-27T08:04:08.685188Z",
     "shell.execute_reply": "2024-06-27T08:04:08.683837Z",
     "shell.execute_reply.started": "2024-06-27T08:04:07.784467Z"
    }
   },
   "outputs": [],
   "source": [
    "clustered_results['species'] = clustered_results['File Name'].str.split('_').str[:2].str.join('_')\n"
   ]
  },
  {
   "cell_type": "code",
   "execution_count": 28,
   "id": "62f82714-951b-4584-8368-8340551d8793",
   "metadata": {
    "execution": {
     "iopub.execute_input": "2024-06-27T08:04:11.304590Z",
     "iopub.status.busy": "2024-06-27T08:04:11.303840Z",
     "iopub.status.idle": "2024-06-27T08:04:11.346240Z",
     "shell.execute_reply": "2024-06-27T08:04:11.345047Z",
     "shell.execute_reply.started": "2024-06-27T08:04:11.304545Z"
    }
   },
   "outputs": [
    {
     "data": {
      "text/html": [
       "<div>\n",
       "<style scoped>\n",
       "    .dataframe tbody tr th:only-of-type {\n",
       "        vertical-align: middle;\n",
       "    }\n",
       "\n",
       "    .dataframe tbody tr th {\n",
       "        vertical-align: top;\n",
       "    }\n",
       "\n",
       "    .dataframe thead th {\n",
       "        text-align: right;\n",
       "    }\n",
       "</style>\n",
       "<table border=\"1\" class=\"dataframe\">\n",
       "  <thead>\n",
       "    <tr style=\"text-align: right;\">\n",
       "      <th></th>\n",
       "      <th>File Name</th>\n",
       "      <th>Cluster Label</th>\n",
       "      <th>orthogroups</th>\n",
       "      <th>species</th>\n",
       "    </tr>\n",
       "  </thead>\n",
       "  <tbody>\n",
       "    <tr>\n",
       "      <th>0</th>\n",
       "      <td>Anol_caro_LOC100337545</td>\n",
       "      <td>1472</td>\n",
       "      <td>OG0000097</td>\n",
       "      <td>Anol_caro</td>\n",
       "    </tr>\n",
       "    <tr>\n",
       "      <th>1</th>\n",
       "      <td>Anol_caro_LOC100551521</td>\n",
       "      <td>1738</td>\n",
       "      <td>None</td>\n",
       "      <td>Anol_caro</td>\n",
       "    </tr>\n",
       "    <tr>\n",
       "      <th>2</th>\n",
       "      <td>Anol_caro_LOC100337549</td>\n",
       "      <td>144</td>\n",
       "      <td>None</td>\n",
       "      <td>Anol_caro</td>\n",
       "    </tr>\n",
       "    <tr>\n",
       "      <th>3</th>\n",
       "      <td>Anol_caro_LOC100551552</td>\n",
       "      <td>940</td>\n",
       "      <td>OG0004176</td>\n",
       "      <td>Anol_caro</td>\n",
       "    </tr>\n",
       "    <tr>\n",
       "      <th>4</th>\n",
       "      <td>Anol_caro_LOC100551564</td>\n",
       "      <td>1951</td>\n",
       "      <td>OG0018819</td>\n",
       "      <td>Anol_caro</td>\n",
       "    </tr>\n",
       "    <tr>\n",
       "      <th>...</th>\n",
       "      <td>...</td>\n",
       "      <td>...</td>\n",
       "      <td>...</td>\n",
       "      <td>...</td>\n",
       "    </tr>\n",
       "    <tr>\n",
       "      <th>272050</th>\n",
       "      <td>Taen_gutt_ZRANB3</td>\n",
       "      <td>1470</td>\n",
       "      <td>OG0024434</td>\n",
       "      <td>Taen_gutt</td>\n",
       "    </tr>\n",
       "    <tr>\n",
       "      <th>272051</th>\n",
       "      <td>Taen_gutt_ZNF831</td>\n",
       "      <td>302</td>\n",
       "      <td>OG0024432</td>\n",
       "      <td>Taen_gutt</td>\n",
       "    </tr>\n",
       "    <tr>\n",
       "      <th>272052</th>\n",
       "      <td>Taen_gutt_ZWILCH</td>\n",
       "      <td>1004</td>\n",
       "      <td>OG0029775</td>\n",
       "      <td>Taen_gutt</td>\n",
       "    </tr>\n",
       "    <tr>\n",
       "      <th>272053</th>\n",
       "      <td>Taen_gutt_ZSWIM1</td>\n",
       "      <td>5</td>\n",
       "      <td>OG0006861</td>\n",
       "      <td>Taen_gutt</td>\n",
       "    </tr>\n",
       "    <tr>\n",
       "      <th>272054</th>\n",
       "      <td>Taen_gutt_ZZZ3</td>\n",
       "      <td>52</td>\n",
       "      <td>OG0004995</td>\n",
       "      <td>Taen_gutt</td>\n",
       "    </tr>\n",
       "  </tbody>\n",
       "</table>\n",
       "<p>272055 rows × 4 columns</p>\n",
       "</div>"
      ],
      "text/plain": [
       "                     File Name  Cluster Label orthogroups    species\n",
       "0       Anol_caro_LOC100337545           1472   OG0000097  Anol_caro\n",
       "1       Anol_caro_LOC100551521           1738        None  Anol_caro\n",
       "2       Anol_caro_LOC100337549            144        None  Anol_caro\n",
       "3       Anol_caro_LOC100551552            940   OG0004176  Anol_caro\n",
       "4       Anol_caro_LOC100551564           1951   OG0018819  Anol_caro\n",
       "...                        ...            ...         ...        ...\n",
       "272050        Taen_gutt_ZRANB3           1470   OG0024434  Taen_gutt\n",
       "272051        Taen_gutt_ZNF831            302   OG0024432  Taen_gutt\n",
       "272052        Taen_gutt_ZWILCH           1004   OG0029775  Taen_gutt\n",
       "272053        Taen_gutt_ZSWIM1              5   OG0006861  Taen_gutt\n",
       "272054          Taen_gutt_ZZZ3             52   OG0004995  Taen_gutt\n",
       "\n",
       "[272055 rows x 4 columns]"
      ]
     },
     "execution_count": 28,
     "metadata": {},
     "output_type": "execute_result"
    }
   ],
   "source": [
    "clustered_results"
   ]
  },
  {
   "cell_type": "code",
   "execution_count": 29,
   "id": "0f5a858c-d89d-4872-8353-38fbe494645b",
   "metadata": {
    "execution": {
     "iopub.execute_input": "2024-06-27T08:04:13.962764Z",
     "iopub.status.busy": "2024-06-27T08:04:13.962201Z",
     "iopub.status.idle": "2024-06-27T08:04:14.415018Z",
     "shell.execute_reply": "2024-06-27T08:04:14.414024Z",
     "shell.execute_reply.started": "2024-06-27T08:04:13.962721Z"
    },
    "tags": []
   },
   "outputs": [],
   "source": [
    "clustered_results.to_csv('Minibatch_kmeans_result_10_species_n_2000.csv')"
   ]
  },
  {
   "cell_type": "code",
   "execution_count": 30,
   "id": "4d275f90-29ed-4cea-9349-2bcb9af9bcd4",
   "metadata": {
    "execution": {
     "iopub.execute_input": "2024-06-27T08:04:25.268075Z",
     "iopub.status.busy": "2024-06-27T08:04:25.267523Z",
     "iopub.status.idle": "2024-06-27T08:04:25.282961Z",
     "shell.execute_reply": "2024-06-27T08:04:25.281928Z",
     "shell.execute_reply.started": "2024-06-27T08:04:25.268034Z"
    },
    "tags": []
   },
   "outputs": [
    {
     "data": {
      "text/plain": [
       "Cluster Label\n",
       "1851    393\n",
       "302     392\n",
       "809     382\n",
       "632     371\n",
       "172     369\n",
       "       ... \n",
       "1825      5\n",
       "1902      5\n",
       "1045      5\n",
       "1736      4\n",
       "1333      2\n",
       "Name: count, Length: 2000, dtype: int64"
      ]
     },
     "execution_count": 30,
     "metadata": {},
     "output_type": "execute_result"
    }
   ],
   "source": [
    "clustered_results['Cluster Label'].value_counts()"
   ]
  },
  {
   "cell_type": "code",
   "execution_count": 31,
   "id": "66265bd2-5365-48f4-bae2-6490b0b8845a",
   "metadata": {
    "execution": {
     "iopub.execute_input": "2024-06-27T08:04:25.847421Z",
     "iopub.status.busy": "2024-06-27T08:04:25.846905Z",
     "iopub.status.idle": "2024-06-27T08:04:25.903355Z",
     "shell.execute_reply": "2024-06-27T08:04:25.902333Z",
     "shell.execute_reply.started": "2024-06-27T08:04:25.847381Z"
    },
    "tags": []
   },
   "outputs": [
    {
     "data": {
      "text/plain": [
       "orthogroups\n",
       "OG0000000    238\n",
       "OG0000001    232\n",
       "OG0000002    221\n",
       "OG0000003    216\n",
       "OG0000004    211\n",
       "            ... \n",
       "OG0030756      1\n",
       "OG0030669      1\n",
       "OG0029014      1\n",
       "OG0010980      1\n",
       "OG0019964      1\n",
       "Name: count, Length: 35030, dtype: int64"
      ]
     },
     "execution_count": 31,
     "metadata": {},
     "output_type": "execute_result"
    }
   ],
   "source": [
    "clustered_results['orthogroups'].value_counts()"
   ]
  },
  {
   "cell_type": "code",
   "execution_count": 32,
   "id": "b73c3d06-6a74-4a6b-9fe1-35e9c6dc0caa",
   "metadata": {
    "execution": {
     "iopub.execute_input": "2024-06-27T08:04:26.054927Z",
     "iopub.status.busy": "2024-06-27T08:04:26.054444Z",
     "iopub.status.idle": "2024-06-27T08:04:26.096206Z",
     "shell.execute_reply": "2024-06-27T08:04:26.095455Z",
     "shell.execute_reply.started": "2024-06-27T08:04:26.054886Z"
    },
    "tags": []
   },
   "outputs": [
    {
     "data": {
      "text/html": [
       "<div>\n",
       "<style scoped>\n",
       "    .dataframe tbody tr th:only-of-type {\n",
       "        vertical-align: middle;\n",
       "    }\n",
       "\n",
       "    .dataframe tbody tr th {\n",
       "        vertical-align: top;\n",
       "    }\n",
       "\n",
       "    .dataframe thead th {\n",
       "        text-align: right;\n",
       "    }\n",
       "</style>\n",
       "<table border=\"1\" class=\"dataframe\">\n",
       "  <thead>\n",
       "    <tr style=\"text-align: right;\">\n",
       "      <th></th>\n",
       "      <th>File Name</th>\n",
       "      <th>Cluster Label</th>\n",
       "      <th>orthogroups</th>\n",
       "      <th>species</th>\n",
       "    </tr>\n",
       "  </thead>\n",
       "  <tbody>\n",
       "    <tr>\n",
       "      <th>145</th>\n",
       "      <td>Anol_caro_LOC100556725</td>\n",
       "      <td>58</td>\n",
       "      <td>OG0000055</td>\n",
       "      <td>Anol_caro</td>\n",
       "    </tr>\n",
       "    <tr>\n",
       "      <th>169</th>\n",
       "      <td>Anol_caro_LOC100557654</td>\n",
       "      <td>58</td>\n",
       "      <td>OG0000055</td>\n",
       "      <td>Anol_caro</td>\n",
       "    </tr>\n",
       "    <tr>\n",
       "      <th>268</th>\n",
       "      <td>Anol_caro_LOC100561656</td>\n",
       "      <td>122</td>\n",
       "      <td>OG0000055</td>\n",
       "      <td>Anol_caro</td>\n",
       "    </tr>\n",
       "    <tr>\n",
       "      <th>473</th>\n",
       "      <td>Anol_caro_LOC103277990</td>\n",
       "      <td>1253</td>\n",
       "      <td>OG0000055</td>\n",
       "      <td>Anol_caro</td>\n",
       "    </tr>\n",
       "    <tr>\n",
       "      <th>637</th>\n",
       "      <td>Anol_caro_LOC103280102</td>\n",
       "      <td>1178</td>\n",
       "      <td>OG0000055</td>\n",
       "      <td>Anol_caro</td>\n",
       "    </tr>\n",
       "    <tr>\n",
       "      <th>...</th>\n",
       "      <td>...</td>\n",
       "      <td>...</td>\n",
       "      <td>...</td>\n",
       "      <td>...</td>\n",
       "    </tr>\n",
       "    <tr>\n",
       "      <th>19332</th>\n",
       "      <td>Anol_caro_LOC100565347</td>\n",
       "      <td>1932</td>\n",
       "      <td>OG0000055</td>\n",
       "      <td>Anol_caro</td>\n",
       "    </tr>\n",
       "    <tr>\n",
       "      <th>19421</th>\n",
       "      <td>Anol_caro_LOC103277484</td>\n",
       "      <td>58</td>\n",
       "      <td>OG0000055</td>\n",
       "      <td>Anol_caro</td>\n",
       "    </tr>\n",
       "    <tr>\n",
       "      <th>19688</th>\n",
       "      <td>Anol_caro_LOC103281210</td>\n",
       "      <td>1885</td>\n",
       "      <td>OG0000055</td>\n",
       "      <td>Anol_caro</td>\n",
       "    </tr>\n",
       "    <tr>\n",
       "      <th>19949</th>\n",
       "      <td>Anol_caro_LOC107983239</td>\n",
       "      <td>1005</td>\n",
       "      <td>OG0000055</td>\n",
       "      <td>Anol_caro</td>\n",
       "    </tr>\n",
       "    <tr>\n",
       "      <th>47604</th>\n",
       "      <td>Croc_poro_LOC109324413</td>\n",
       "      <td>958</td>\n",
       "      <td>OG0000055</td>\n",
       "      <td>Croc_poro</td>\n",
       "    </tr>\n",
       "  </tbody>\n",
       "</table>\n",
       "<p>78 rows × 4 columns</p>\n",
       "</div>"
      ],
      "text/plain": [
       "                    File Name  Cluster Label orthogroups    species\n",
       "145    Anol_caro_LOC100556725             58   OG0000055  Anol_caro\n",
       "169    Anol_caro_LOC100557654             58   OG0000055  Anol_caro\n",
       "268    Anol_caro_LOC100561656            122   OG0000055  Anol_caro\n",
       "473    Anol_caro_LOC103277990           1253   OG0000055  Anol_caro\n",
       "637    Anol_caro_LOC103280102           1178   OG0000055  Anol_caro\n",
       "...                       ...            ...         ...        ...\n",
       "19332  Anol_caro_LOC100565347           1932   OG0000055  Anol_caro\n",
       "19421  Anol_caro_LOC103277484             58   OG0000055  Anol_caro\n",
       "19688  Anol_caro_LOC103281210           1885   OG0000055  Anol_caro\n",
       "19949  Anol_caro_LOC107983239           1005   OG0000055  Anol_caro\n",
       "47604  Croc_poro_LOC109324413            958   OG0000055  Croc_poro\n",
       "\n",
       "[78 rows x 4 columns]"
      ]
     },
     "execution_count": 32,
     "metadata": {},
     "output_type": "execute_result"
    }
   ],
   "source": [
    "clustered_results[clustered_results['orthogroups']=='OG0000055']"
   ]
  },
  {
   "cell_type": "code",
   "execution_count": 36,
   "id": "316b4db4-fc08-4885-931f-d99d24ff05f1",
   "metadata": {
    "execution": {
     "iopub.execute_input": "2024-06-27T08:04:46.291922Z",
     "iopub.status.busy": "2024-06-27T08:04:46.291165Z",
     "iopub.status.idle": "2024-06-27T08:04:46.339330Z",
     "shell.execute_reply": "2024-06-27T08:04:46.338520Z",
     "shell.execute_reply.started": "2024-06-27T08:04:46.291875Z"
    }
   },
   "outputs": [
    {
     "data": {
      "text/plain": [
       "species\n",
       "Anol_caro    77\n",
       "Croc_poro     1\n",
       "Name: count, dtype: int64"
      ]
     },
     "execution_count": 36,
     "metadata": {},
     "output_type": "execute_result"
    }
   ],
   "source": [
    "clustered_results[clustered_results['orthogroups']=='OG0000055']['species'].value_counts()"
   ]
  },
  {
   "cell_type": "code",
   "execution_count": 33,
   "id": "2086d504-2673-4534-af26-4654569d6029",
   "metadata": {
    "execution": {
     "iopub.execute_input": "2024-06-27T08:04:26.238552Z",
     "iopub.status.busy": "2024-06-27T08:04:26.238098Z",
     "iopub.status.idle": "2024-06-27T08:04:26.275957Z",
     "shell.execute_reply": "2024-06-27T08:04:26.275145Z",
     "shell.execute_reply.started": "2024-06-27T08:04:26.238513Z"
    },
    "tags": []
   },
   "outputs": [
    {
     "data": {
      "text/plain": [
       "Cluster Label\n",
       "58      21\n",
       "958     16\n",
       "257      6\n",
       "210      6\n",
       "239      4\n",
       "1178     3\n",
       "122      3\n",
       "426      2\n",
       "871      1\n",
       "1885     1\n",
       "1932     1\n",
       "614      1\n",
       "1555     1\n",
       "700      1\n",
       "1116     1\n",
       "828      1\n",
       "1573     1\n",
       "248      1\n",
       "1011     1\n",
       "1003     1\n",
       "900      1\n",
       "581      1\n",
       "1779     1\n",
       "1253     1\n",
       "1005     1\n",
       "Name: count, dtype: int64"
      ]
     },
     "execution_count": 33,
     "metadata": {},
     "output_type": "execute_result"
    }
   ],
   "source": [
    "clustered_results[clustered_results['orthogroups']=='OG0000055']['Cluster Label'].value_counts()"
   ]
  },
  {
   "cell_type": "code",
   "execution_count": 34,
   "id": "58b617de-221a-4480-9db5-b15842fd81a7",
   "metadata": {
    "execution": {
     "iopub.execute_input": "2024-06-27T08:04:26.616964Z",
     "iopub.status.busy": "2024-06-27T08:04:26.616334Z",
     "iopub.status.idle": "2024-06-27T08:04:26.636056Z",
     "shell.execute_reply": "2024-06-27T08:04:26.635081Z",
     "shell.execute_reply.started": "2024-06-27T08:04:26.616920Z"
    },
    "tags": []
   },
   "outputs": [
    {
     "data": {
      "text/html": [
       "<div>\n",
       "<style scoped>\n",
       "    .dataframe tbody tr th:only-of-type {\n",
       "        vertical-align: middle;\n",
       "    }\n",
       "\n",
       "    .dataframe tbody tr th {\n",
       "        vertical-align: top;\n",
       "    }\n",
       "\n",
       "    .dataframe thead th {\n",
       "        text-align: right;\n",
       "    }\n",
       "</style>\n",
       "<table border=\"1\" class=\"dataframe\">\n",
       "  <thead>\n",
       "    <tr style=\"text-align: right;\">\n",
       "      <th></th>\n",
       "      <th>File Name</th>\n",
       "      <th>Cluster Label</th>\n",
       "      <th>orthogroups</th>\n",
       "      <th>species</th>\n",
       "    </tr>\n",
       "  </thead>\n",
       "  <tbody>\n",
       "    <tr>\n",
       "      <th>145</th>\n",
       "      <td>Anol_caro_LOC100556725</td>\n",
       "      <td>58</td>\n",
       "      <td>OG0000055</td>\n",
       "      <td>Anol_caro</td>\n",
       "    </tr>\n",
       "    <tr>\n",
       "      <th>169</th>\n",
       "      <td>Anol_caro_LOC100557654</td>\n",
       "      <td>58</td>\n",
       "      <td>OG0000055</td>\n",
       "      <td>Anol_caro</td>\n",
       "    </tr>\n",
       "    <tr>\n",
       "      <th>201</th>\n",
       "      <td>Anol_caro_LOC100558991</td>\n",
       "      <td>58</td>\n",
       "      <td>OG0014845</td>\n",
       "      <td>Anol_caro</td>\n",
       "    </tr>\n",
       "    <tr>\n",
       "      <th>484</th>\n",
       "      <td>Anol_caro_LOC103278140</td>\n",
       "      <td>58</td>\n",
       "      <td>OG0002480</td>\n",
       "      <td>Anol_caro</td>\n",
       "    </tr>\n",
       "    <tr>\n",
       "      <th>1013</th>\n",
       "      <td>Anol_caro_LOC107983779</td>\n",
       "      <td>58</td>\n",
       "      <td>OG0000803</td>\n",
       "      <td>Anol_caro</td>\n",
       "    </tr>\n",
       "    <tr>\n",
       "      <th>...</th>\n",
       "      <td>...</td>\n",
       "      <td>...</td>\n",
       "      <td>...</td>\n",
       "      <td>...</td>\n",
       "    </tr>\n",
       "    <tr>\n",
       "      <th>251571</th>\n",
       "      <td>Taen_gutt_LOC105760196</td>\n",
       "      <td>58</td>\n",
       "      <td>OG0001019</td>\n",
       "      <td>Taen_gutt</td>\n",
       "    </tr>\n",
       "    <tr>\n",
       "      <th>257017</th>\n",
       "      <td>Taen_gutt_LOC115492498</td>\n",
       "      <td>58</td>\n",
       "      <td>OG0001019</td>\n",
       "      <td>Taen_gutt</td>\n",
       "    </tr>\n",
       "    <tr>\n",
       "      <th>257498</th>\n",
       "      <td>Taen_gutt_LOC121468881</td>\n",
       "      <td>58</td>\n",
       "      <td>OG0000279</td>\n",
       "      <td>Taen_gutt</td>\n",
       "    </tr>\n",
       "    <tr>\n",
       "      <th>260210</th>\n",
       "      <td>Taen_gutt_LOC121468938</td>\n",
       "      <td>58</td>\n",
       "      <td>OG0001019</td>\n",
       "      <td>Taen_gutt</td>\n",
       "    </tr>\n",
       "    <tr>\n",
       "      <th>267707</th>\n",
       "      <td>Taen_gutt_LOC101233579</td>\n",
       "      <td>58</td>\n",
       "      <td>OG0001019</td>\n",
       "      <td>Taen_gutt</td>\n",
       "    </tr>\n",
       "  </tbody>\n",
       "</table>\n",
       "<p>139 rows × 4 columns</p>\n",
       "</div>"
      ],
      "text/plain": [
       "                     File Name  Cluster Label orthogroups    species\n",
       "145     Anol_caro_LOC100556725             58   OG0000055  Anol_caro\n",
       "169     Anol_caro_LOC100557654             58   OG0000055  Anol_caro\n",
       "201     Anol_caro_LOC100558991             58   OG0014845  Anol_caro\n",
       "484     Anol_caro_LOC103278140             58   OG0002480  Anol_caro\n",
       "1013    Anol_caro_LOC107983779             58   OG0000803  Anol_caro\n",
       "...                        ...            ...         ...        ...\n",
       "251571  Taen_gutt_LOC105760196             58   OG0001019  Taen_gutt\n",
       "257017  Taen_gutt_LOC115492498             58   OG0001019  Taen_gutt\n",
       "257498  Taen_gutt_LOC121468881             58   OG0000279  Taen_gutt\n",
       "260210  Taen_gutt_LOC121468938             58   OG0001019  Taen_gutt\n",
       "267707  Taen_gutt_LOC101233579             58   OG0001019  Taen_gutt\n",
       "\n",
       "[139 rows x 4 columns]"
      ]
     },
     "execution_count": 34,
     "metadata": {},
     "output_type": "execute_result"
    }
   ],
   "source": [
    "clustered_results[clustered_results['Cluster Label']==58]"
   ]
  },
  {
   "cell_type": "code",
   "execution_count": 35,
   "id": "0bd386d0-896c-4b1c-8b26-b7e264905fb6",
   "metadata": {
    "execution": {
     "iopub.execute_input": "2024-06-27T08:04:26.789737Z",
     "iopub.status.busy": "2024-06-27T08:04:26.789146Z",
     "iopub.status.idle": "2024-06-27T08:04:26.801506Z",
     "shell.execute_reply": "2024-06-27T08:04:26.800424Z",
     "shell.execute_reply.started": "2024-06-27T08:04:26.789697Z"
    },
    "tags": []
   },
   "outputs": [
    {
     "data": {
      "text/plain": [
       "orthogroups\n",
       "OG0000055    21\n",
       "OG0000637    14\n",
       "OG0000007    10\n",
       "OG0000430     9\n",
       "OG0000473     8\n",
       "OG0000087     8\n",
       "OG0002480     6\n",
       "OG0001291     5\n",
       "OG0001019     4\n",
       "OG0000234     3\n",
       "OG0002307     3\n",
       "OG0000040     3\n",
       "OG0001134     3\n",
       "OG0000017     3\n",
       "OG0003419     2\n",
       "OG0013651     2\n",
       "OG0001292     2\n",
       "OG0001281     2\n",
       "OG0004107     2\n",
       "OG0007070     2\n",
       "OG0000803     2\n",
       "OG0021515     1\n",
       "OG0001285     1\n",
       "OG0000091     1\n",
       "OG0013841     1\n",
       "OG0000780     1\n",
       "OG0003195     1\n",
       "OG0000003     1\n",
       "OG0001126     1\n",
       "OG0010897     1\n",
       "OG0031756     1\n",
       "OG0002723     1\n",
       "OG0014845     1\n",
       "OG0017253     1\n",
       "OG0000195     1\n",
       "OG0009323     1\n",
       "OG0022573     1\n",
       "OG0003018     1\n",
       "OG0018607     1\n",
       "OG0000935     1\n",
       "OG0018328     1\n",
       "OG0000279     1\n",
       "Name: count, dtype: int64"
      ]
     },
     "execution_count": 35,
     "metadata": {},
     "output_type": "execute_result"
    }
   ],
   "source": [
    "clustered_results[clustered_results['Cluster Label']==58]['orthogroups'].value_counts()"
   ]
  },
  {
   "cell_type": "code",
   "execution_count": 16,
   "id": "635bf3ca-dc0d-4d90-8a39-7bc390f40575",
   "metadata": {
    "execution": {
     "iopub.execute_input": "2024-06-27T07:57:26.519848Z",
     "iopub.status.busy": "2024-06-27T07:57:26.519284Z",
     "iopub.status.idle": "2024-06-27T07:57:26.528591Z",
     "shell.execute_reply": "2024-06-27T07:57:26.527404Z",
     "shell.execute_reply.started": "2024-06-27T07:57:26.519805Z"
    }
   },
   "outputs": [
    {
     "data": {
      "text/plain": [
       "'/home/ftnws/project/Cross_spe_LLM/scripts'"
      ]
     },
     "execution_count": 16,
     "metadata": {},
     "output_type": "execute_result"
    }
   ],
   "source": [
    "pwd"
   ]
  },
  {
   "cell_type": "code",
   "execution_count": 26,
   "id": "58a377ad-499a-4148-a1b7-5623c72f70df",
   "metadata": {
    "execution": {
     "iopub.execute_input": "2024-06-27T08:01:20.513656Z",
     "iopub.status.busy": "2024-06-27T08:01:20.512806Z",
     "iopub.status.idle": "2024-06-27T08:01:20.558993Z",
     "shell.execute_reply": "2024-06-27T08:01:20.557923Z",
     "shell.execute_reply.started": "2024-06-27T08:01:20.513580Z"
    },
    "tags": []
   },
   "outputs": [
    {
     "data": {
      "text/html": [
       "<div>\n",
       "<style scoped>\n",
       "    .dataframe tbody tr th:only-of-type {\n",
       "        vertical-align: middle;\n",
       "    }\n",
       "\n",
       "    .dataframe tbody tr th {\n",
       "        vertical-align: top;\n",
       "    }\n",
       "\n",
       "    .dataframe thead th {\n",
       "        text-align: right;\n",
       "    }\n",
       "</style>\n",
       "<table border=\"1\" class=\"dataframe\">\n",
       "  <thead>\n",
       "    <tr style=\"text-align: right;\">\n",
       "      <th></th>\n",
       "      <th>File Name</th>\n",
       "      <th>Cluster Label</th>\n",
       "      <th>orthogroups</th>\n",
       "    </tr>\n",
       "  </thead>\n",
       "  <tbody>\n",
       "    <tr>\n",
       "      <th>145</th>\n",
       "      <td>Anol_caro_LOC100556725</td>\n",
       "      <td>58</td>\n",
       "      <td>OG0000055</td>\n",
       "    </tr>\n",
       "    <tr>\n",
       "      <th>169</th>\n",
       "      <td>Anol_caro_LOC100557654</td>\n",
       "      <td>58</td>\n",
       "      <td>OG0000055</td>\n",
       "    </tr>\n",
       "    <tr>\n",
       "      <th>2755</th>\n",
       "      <td>Anol_caro_LOC100551974</td>\n",
       "      <td>58</td>\n",
       "      <td>OG0000055</td>\n",
       "    </tr>\n",
       "    <tr>\n",
       "      <th>2886</th>\n",
       "      <td>Anol_caro_LOC100556859</td>\n",
       "      <td>58</td>\n",
       "      <td>OG0000055</td>\n",
       "    </tr>\n",
       "    <tr>\n",
       "      <th>3212</th>\n",
       "      <td>Anol_caro_LOC103277550</td>\n",
       "      <td>58</td>\n",
       "      <td>OG0000055</td>\n",
       "    </tr>\n",
       "    <tr>\n",
       "      <th>5864</th>\n",
       "      <td>Anol_caro_LOC103277521</td>\n",
       "      <td>58</td>\n",
       "      <td>OG0000055</td>\n",
       "    </tr>\n",
       "    <tr>\n",
       "      <th>6052</th>\n",
       "      <td>Anol_caro_LOC103280099</td>\n",
       "      <td>58</td>\n",
       "      <td>OG0000055</td>\n",
       "    </tr>\n",
       "    <tr>\n",
       "      <th>6088</th>\n",
       "      <td>Anol_caro_LOC103280564</td>\n",
       "      <td>58</td>\n",
       "      <td>OG0000055</td>\n",
       "    </tr>\n",
       "    <tr>\n",
       "      <th>8126</th>\n",
       "      <td>Anol_caro_LOC100553141</td>\n",
       "      <td>58</td>\n",
       "      <td>OG0000055</td>\n",
       "    </tr>\n",
       "    <tr>\n",
       "      <th>8195</th>\n",
       "      <td>Anol_caro_LOC100555552</td>\n",
       "      <td>58</td>\n",
       "      <td>OG0000055</td>\n",
       "    </tr>\n",
       "    <tr>\n",
       "      <th>8341</th>\n",
       "      <td>Anol_caro_LOC100561264</td>\n",
       "      <td>58</td>\n",
       "      <td>OG0000055</td>\n",
       "    </tr>\n",
       "    <tr>\n",
       "      <th>8755</th>\n",
       "      <td>Anol_caro_LOC103280563</td>\n",
       "      <td>58</td>\n",
       "      <td>OG0000055</td>\n",
       "    </tr>\n",
       "    <tr>\n",
       "      <th>8788</th>\n",
       "      <td>Anol_caro_LOC103281097</td>\n",
       "      <td>58</td>\n",
       "      <td>OG0000055</td>\n",
       "    </tr>\n",
       "    <tr>\n",
       "      <th>10797</th>\n",
       "      <td>Anol_caro_LOC100553397</td>\n",
       "      <td>58</td>\n",
       "      <td>OG0000055</td>\n",
       "    </tr>\n",
       "    <tr>\n",
       "      <th>13826</th>\n",
       "      <td>Anol_caro_LOC100563175</td>\n",
       "      <td>58</td>\n",
       "      <td>OG0000055</td>\n",
       "    </tr>\n",
       "    <tr>\n",
       "      <th>16189</th>\n",
       "      <td>Anol_caro_zfp3</td>\n",
       "      <td>58</td>\n",
       "      <td>OG0000055</td>\n",
       "    </tr>\n",
       "    <tr>\n",
       "      <th>16305</th>\n",
       "      <td>Anol_caro_LOC100554576</td>\n",
       "      <td>58</td>\n",
       "      <td>OG0000055</td>\n",
       "    </tr>\n",
       "    <tr>\n",
       "      <th>16355</th>\n",
       "      <td>Anol_caro_LOC100556090</td>\n",
       "      <td>58</td>\n",
       "      <td>OG0000055</td>\n",
       "    </tr>\n",
       "    <tr>\n",
       "      <th>16486</th>\n",
       "      <td>Anol_caro_LOC100561067</td>\n",
       "      <td>58</td>\n",
       "      <td>OG0000055</td>\n",
       "    </tr>\n",
       "    <tr>\n",
       "      <th>16630</th>\n",
       "      <td>Anol_caro_LOC100567159</td>\n",
       "      <td>58</td>\n",
       "      <td>OG0000055</td>\n",
       "    </tr>\n",
       "    <tr>\n",
       "      <th>19421</th>\n",
       "      <td>Anol_caro_LOC103277484</td>\n",
       "      <td>58</td>\n",
       "      <td>OG0000055</td>\n",
       "    </tr>\n",
       "  </tbody>\n",
       "</table>\n",
       "</div>"
      ],
      "text/plain": [
       "                    File Name  Cluster Label orthogroups\n",
       "145    Anol_caro_LOC100556725             58   OG0000055\n",
       "169    Anol_caro_LOC100557654             58   OG0000055\n",
       "2755   Anol_caro_LOC100551974             58   OG0000055\n",
       "2886   Anol_caro_LOC100556859             58   OG0000055\n",
       "3212   Anol_caro_LOC103277550             58   OG0000055\n",
       "5864   Anol_caro_LOC103277521             58   OG0000055\n",
       "6052   Anol_caro_LOC103280099             58   OG0000055\n",
       "6088   Anol_caro_LOC103280564             58   OG0000055\n",
       "8126   Anol_caro_LOC100553141             58   OG0000055\n",
       "8195   Anol_caro_LOC100555552             58   OG0000055\n",
       "8341   Anol_caro_LOC100561264             58   OG0000055\n",
       "8755   Anol_caro_LOC103280563             58   OG0000055\n",
       "8788   Anol_caro_LOC103281097             58   OG0000055\n",
       "10797  Anol_caro_LOC100553397             58   OG0000055\n",
       "13826  Anol_caro_LOC100563175             58   OG0000055\n",
       "16189          Anol_caro_zfp3             58   OG0000055\n",
       "16305  Anol_caro_LOC100554576             58   OG0000055\n",
       "16355  Anol_caro_LOC100556090             58   OG0000055\n",
       "16486  Anol_caro_LOC100561067             58   OG0000055\n",
       "16630  Anol_caro_LOC100567159             58   OG0000055\n",
       "19421  Anol_caro_LOC103277484             58   OG0000055"
      ]
     },
     "execution_count": 26,
     "metadata": {},
     "output_type": "execute_result"
    }
   ],
   "source": [
    "clustered_results[(clustered_results['Cluster Label']==58)&\n",
    "                    (clustered_results['orthogroups']=='OG0000055')]"
   ]
  },
  {
   "cell_type": "code",
   "execution_count": null,
   "id": "d67cf639-9d2e-455c-8251-84e308f07875",
   "metadata": {},
   "outputs": [],
   "source": []
  }
 ],
 "metadata": {
  "kernelspec": {
   "display_name": "fugw",
   "language": "python",
   "name": "fugw"
  },
  "language_info": {
   "codemirror_mode": {
    "name": "ipython",
    "version": 3
   },
   "file_extension": ".py",
   "mimetype": "text/x-python",
   "name": "python",
   "nbconvert_exporter": "python",
   "pygments_lexer": "ipython3",
   "version": "3.10.12"
  }
 },
 "nbformat": 4,
 "nbformat_minor": 5
}
